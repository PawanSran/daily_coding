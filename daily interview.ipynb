{
 "cells": [
  {
   "cell_type": "markdown",
   "metadata": {},
   "source": [
    "### TWO Sum (Sept 12)\n",
    "\n",
    "Hi, here's your problem today. This problem was recently asked by Facebook:\n",
    "\n",
    "You are given a list of numbers, and a target number k. Return whether or not there are two numbers in the list that add up to k.\n",
    "\n",
    "Example:\n",
    "Given [4, 7, 1 , -3, 2] and k = 5,\n",
    "return true since 4 + 1 = 5.\n",
    "\n",
    "def two_sum(list, k):\n",
    "  Fill this in.\n",
    "\n",
    "print two_sum([4,7,1,-3,2], 5)\n",
    "True\n",
    "\n",
    "Try to do it in a single pass of the list."
   ]
  },
  {
   "cell_type": "code",
   "execution_count": 22,
   "metadata": {},
   "outputs": [],
   "source": [
    "import numpy as np\n",
    "def two_sum(list_1, k):\n",
    "    #sort the list\n",
    "    sorted_list = np.sort(list_1)\n",
    "    print(sorted_list)\n",
    "    \n",
    "    i = 0 \n",
    "    j = len(sorted_list) - 1\n",
    "    \n",
    "    while(i < j):\n",
    "        test_sum = sorted_list[i] + sorted_list[j]\n",
    "        if (test_sum == k):\n",
    "            return True\n",
    "        elif (test_sum < k):\n",
    "            i = i +1\n",
    "        else: \n",
    "            j = j -1\n",
    "    \n",
    "    return False        "
   ]
  },
  {
   "cell_type": "code",
   "execution_count": 23,
   "metadata": {},
   "outputs": [
    {
     "name": "stdout",
     "output_type": "stream",
     "text": [
      "[-3  1  2  4  7]\n",
      "True\n"
     ]
    }
   ],
   "source": [
    "print(two_sum([4,7,1,-3,2], 5))\n",
    "#True"
   ]
  },
  {
   "cell_type": "markdown",
   "metadata": {},
   "source": [
    "# Sept 09\n",
    "\n",
    "Hi, here's your problem today. This problem was recently asked by AirBNB:\n",
    "\n",
    "Given a sorted array, A, with possibly duplicated elements, find the indices of the first and last occurrences of a target element, x. Return -1 if the target is not found.\n",
    "\n",
    "Example:\n",
    "Input: A = [1,3,3,5,7,8,9,9,9,15], target = 9\n",
    "Output: [6,8]\n",
    "\n",
    "Input: A = [100, 150, 150, 153], target = 150\n",
    "Output: [1,2]\n",
    "\n",
    "Input: A = [1,2,3,4,5,6,10], target = 9\n",
    "Output: [-1, -1]\n",
    "Here is a function signature example:\n",
    "\n",
    "class Solution: \n",
    "  def getRange(self, arr, target):\n",
    "    # Fill this in.\n",
    "  \n",
    " ###Test program \n",
    "arr = [1, 2, 2, 2, 2, 3, 4, 7, 8, 8] \n",
    "x = 2\n",
    "print(Solution().getRange(arr, x))\n",
    "####[1, 4]"
   ]
  },
  {
   "cell_type": "code",
   "execution_count": 60,
   "metadata": {},
   "outputs": [],
   "source": [
    "class Solution: \n",
    "  def getRange(self, arr, target):\n",
    "    # Fill this in.\n",
    "    print(arr)\n",
    "    i = 0\n",
    "    j = len(arr) - 1\n",
    "    firstidx = -1\n",
    "    lastidx = -1\n",
    "    firstidx_found = False\n",
    "    lastidx_found = False\n",
    "    \n",
    "    while (i <= j):\n",
    "        \n",
    "        if (firstidx_found and lastidx_found):\n",
    "            return range(firstidx, lastidx)\n",
    "        \n",
    "        if(firstidx_found == False and arr[i] == target):\n",
    "            firstidx = i\n",
    "            firstidx_found = True\n",
    "            \n",
    "        \n",
    "        if(lastidx_found == False and arr[j] == target):\n",
    "            lastidx = j\n",
    "            lastidx_found = True\n",
    "        \n",
    "        if (firstidx_found == False):\n",
    "            i = i + 1\n",
    "            \n",
    "        if (lastidx_found == False):\n",
    "            j = j-1\n",
    "        \n",
    "    return range(firstidx, lastidx)\n"
   ]
  },
  {
   "cell_type": "code",
   "execution_count": 61,
   "metadata": {},
   "outputs": [
    {
     "name": "stdout",
     "output_type": "stream",
     "text": [
      "[1, 1, 3, 2, 2, 3, 4, 7, 8, 8]\n",
      "range(6, 6)\n"
     ]
    }
   ],
   "source": [
    "# Test program \n",
    "arr = [1, 1, 3, 2, 2, 3, 4, 7, 8, 8] \n",
    "x = 4\n",
    "\n",
    "print(Solution().getRange(arr, x))\n",
    "# [1, 4]"
   ]
  },
  {
   "cell_type": "markdown",
   "metadata": {},
   "source": [
    "# SEPT 13\n",
    "\n",
    "Hi, here's your problem today. This problem was recently asked by Facebook:\n",
    "\n",
    "Given a list of numbers, where every number shows up twice except for one number, find that one number.\n",
    "\n",
    "Example:\n",
    "Input: [4, 3, 2, 4, 1, 3, 2]\n",
    "Output: 1\n",
    "Here's the function signature:\n",
    "\n",
    "def singleNumber(nums):\n",
    "  ####3# Fill this in.\n",
    "\n",
    "print singleNumber([4, 3, 2, 4, 1, 3, 2])\n",
    "########### 1\n",
    "\n",
    "Challenge: Find a way to do this using O(1) memory."
   ]
  },
  {
   "cell_type": "code",
   "execution_count": 73,
   "metadata": {},
   "outputs": [],
   "source": [
    "def singleNumber(nums):\n",
    "    #dict_count = {}\n",
    "    sorted_nums = np.sort(nums)\n",
    "    exact_1 = -1\n",
    "    \n",
    "    for i in sorted_nums:\n",
    "        if(exact_1 == i):\n",
    "            exact_1 = -1 \n",
    "        else:\n",
    "            exact_1 = i\n",
    "    return exact_1\n",
    "        "
   ]
  },
  {
   "cell_type": "code",
   "execution_count": 75,
   "metadata": {},
   "outputs": [
    {
     "name": "stdout",
     "output_type": "stream",
     "text": [
      "-1\n"
     ]
    }
   ],
   "source": [
    "print(singleNumber([4, 10, 3, 2, 4, 1,1,10, 3, 2]))"
   ]
  },
  {
   "cell_type": "markdown",
   "metadata": {},
   "source": [
    "## SEPT 15\n",
    "Hi, here's your problem today. This problem was recently asked by Apple:\n",
    "Given an integer k and a binary search tree, find the floor (less than or equal to) of k, and the ceiling (larger than or equal to) of k. If either does not exist, then print them as None.\n",
    "Here is the definition of a node for the tree.\n",
    "\n",
    "class Node:\n",
    "  def __init__(self, value):\n",
    "    self.left = None\n",
    "    self.right = None\n",
    "    self.value = value\n",
    "\n",
    "def findCeilingFloor(root_node, k, floor=None, ceil=None):\n",
    "  ######### Fill this in.\n",
    "\n",
    "root = Node(8) \n",
    "root.left = Node(4) \n",
    "root.right = Node(12) \n",
    "  \n",
    "root.left.left = Node(2) \n",
    "root.left.right = Node(6) \n",
    "  \n",
    "root.right.left = Node(10) \n",
    "root.right.right = Node(14) \n",
    "\n",
    "print findCeilingFloor(root, 5)\n",
    "######### (4, 6)"
   ]
  },
  {
   "cell_type": "code",
   "execution_count": 107,
   "metadata": {},
   "outputs": [],
   "source": [
    "class Node:\n",
    "  def __init__(self, value):\n",
    "    self.left = None\n",
    "    self.right = None\n",
    "    self.value = value\n",
    "\n",
    "def findCeilingFloor(root_node, k, floor=None, ceil=None):\n",
    "    if(root_node == None ):\n",
    "        return floor, ceil\n",
    "    \n",
    "    if (root_node.value == k):\n",
    "        return root_node.value, root_node.value\n",
    "    \n",
    "    if(k < root_node.value):\n",
    "        ceil = root_node.value\n",
    "        return findCeilingFloor(root_node.left, k, floor, ceil)\n",
    "    \n",
    "    elif ( k > root_node.value):\n",
    "        floor = root_node.value\n",
    "        return findCeilingFloor(root_node.right, k, floor, ceil)"
   ]
  },
  {
   "cell_type": "code",
   "execution_count": 108,
   "metadata": {},
   "outputs": [
    {
     "name": "stdout",
     "output_type": "stream",
     "text": [
      "(4, 6)\n"
     ]
    }
   ],
   "source": [
    "root = Node(8) \n",
    "root.left = Node(4) \n",
    "root.right = Node(12) \n",
    "  \n",
    "root.left.left = Node(2) \n",
    "root.left.right = Node(6) \n",
    "  \n",
    "root.right.left = Node(10) \n",
    "root.right.right = Node(14) \n",
    "\n",
    "print(findCeilingFloor(root, 5))"
   ]
  },
  {
   "cell_type": "markdown",
   "metadata": {},
   "source": [
    "# SEPT 16\n",
    "\n",
    "Hi, here's your problem today. This problem was recently asked by Twitter:\n",
    "\n",
    "You are given the root of a binary tree. Invert the binary tree in place. That is, all left children should become right children, and all right children should become left children.\n",
    "\n",
    "Example:\n",
    "\n",
    "    a\n",
    "   / \\\n",
    "  b   c\n",
    " / \\  /\n",
    "d   e f\n",
    "\n",
    "The inverted version of this tree is as follows:\n",
    "\n",
    "  a\n",
    " / \\\n",
    " c  b\n",
    " \\  / \\\n",
    "  f e  d\n",
    "\n",
    "Here is the function signature:\n",
    "\n",
    "class Node:\n",
    "  def __init__(self, value):\n",
    "    self.left = None\n",
    "    self.right = None\n",
    "    self.value = value\n",
    "  def preorder(self):\n",
    "    print self.value,\n",
    "    if self.left: self.left.preorder()\n",
    "    if self.right: self.right.preorder()\n",
    "\n",
    "def invert(node):\n",
    "  ##4 Fill this in.\n",
    "\n",
    "root = Node('a') \n",
    "root.left = Node('b') \n",
    "root.right = Node('c') \n",
    "root.left.left = Node('d') \n",
    "root.left.right = Node('e') \n",
    "root.right.left = Node('f') \n",
    "\n",
    "root.preorder()\n",
    "#3 a b d e c f \n",
    "print \"\\n\"\n",
    "invert(root)\n",
    "root.preorder()\n",
    "#3 a c f b e d"
   ]
  },
  {
   "cell_type": "code",
   "execution_count": 109,
   "metadata": {},
   "outputs": [],
   "source": [
    "class Node:\n",
    "    def __init__(self, value):\n",
    "        self.left = None\n",
    "        self.right = None\n",
    "        self.value = value\n",
    "    def preorder(self):\n",
    "        print(self.value)\n",
    "        if(self.left):\n",
    "            self.left.preorder()\n",
    "        if(self.right):\n",
    "            self.right.preorder()\n",
    "\n",
    "def invert(node):\n",
    "    if node == None:\n",
    "        return\n",
    "    \n",
    "    #swap left and right \n",
    "    temp = node.left\n",
    "    node.left = node.right\n",
    "    node.right = temp\n",
    "    \n",
    "    invert(node.left)\n",
    "    invert(node.right)\n",
    "   \n"
   ]
  },
  {
   "cell_type": "code",
   "execution_count": 112,
   "metadata": {},
   "outputs": [
    {
     "name": "stdout",
     "output_type": "stream",
     "text": [
      "a\n",
      "b\n",
      "d\n",
      "e\n",
      "c\n",
      "f\n",
      "\n",
      "\n",
      "a\n",
      "c\n",
      "f\n",
      "b\n",
      "e\n",
      "d\n"
     ]
    }
   ],
   "source": [
    "root = Node('a') \n",
    "root.left = Node('b') \n",
    "root.right = Node('c') \n",
    "root.left.left = Node('d') \n",
    "root.left.right = Node('e') \n",
    "root.right.left = Node('f') \n",
    "\n",
    "root.preorder()\n",
    "#3 a b d e c f \n",
    "print(\"\\n\")\n",
    "invert(root)\n",
    "root.preorder()\n",
    "#3 a c f b e d"
   ]
  },
  {
   "cell_type": "markdown",
   "metadata": {},
   "source": [
    "# SEPT 17\n",
    "\n",
    "Hi, here's your problem today. This problem was recently asked by Twitter:\n",
    "\n",
    "Implement a class for a stack that supports all the regular functions (push, pop) and an additional function of max() which returns the maximum element in the stack (return None if the stack is empty). Each method should run in constant time.\n",
    "\n",
    "class MaxStack:\n",
    "  def __init__(self):\n",
    "    # Fill this in.\n",
    "\n",
    "  def push(self, val):\n",
    "    # Fill this in.\n",
    "\n",
    "  def pop(self):\n",
    "    # Fill this in.\n",
    "\n",
    "  def max(self):\n",
    "    # Fill this in.\n",
    "\n",
    "s = MaxStack()\n",
    "s.push(1)\n",
    "s.push(2)\n",
    "s.push(3)\n",
    "s.push(2)\n",
    "print s.max()\n",
    "######## 3\n",
    "s.pop()\n",
    "s.pop()\n",
    "print s.max()\n",
    "#2 2"
   ]
  },
  {
   "cell_type": "code",
   "execution_count": 143,
   "metadata": {},
   "outputs": [],
   "source": [
    "class MaxStack:\n",
    "    def __init__(self):\n",
    "        self.stack = []\n",
    "        self.top = -1\n",
    "    \n",
    "    def push(self, val):\n",
    "        # Fill this in.\n",
    "        self.stack.append(val)\n",
    "        self.top = self.top + 1\n",
    "        \n",
    "    def pop(self):\n",
    "        if (self.top != -1):\n",
    "            temp_pop_val = self.stack[self.top]\n",
    "            temp_stack = []\n",
    "            i = 0\n",
    "            \n",
    "            while(i < self.top):\n",
    "                temp_stack.append(self.stack[i])\n",
    "                i = i+1\n",
    "            self.stack = temp_stack\n",
    "            self.top = self.top - 1\n",
    "        else:\n",
    "            return \"Stack Empty\"\n",
    "        \n",
    "    def printstack(self):\n",
    "        print(self.stack)\n",
    "        return\n",
    "        \n",
    "    def max(self):\n",
    "        import numpy as np\n",
    "        if ( self.top == -1):\n",
    "            return \"stack empty\"\n",
    "        \n",
    "        sorted_stack = np.sort(self.stack)\n",
    "        return sorted_stack[len(self.stack) -1]\n",
    "    \n",
    "            \n",
    "        "
   ]
  },
  {
   "cell_type": "code",
   "execution_count": 146,
   "metadata": {},
   "outputs": [
    {
     "name": "stdout",
     "output_type": "stream",
     "text": [
      "[1, 2, 3, 2]\n",
      "3\n",
      "[1]\n",
      "1\n"
     ]
    }
   ],
   "source": [
    "s = MaxStack()\n",
    "s.push(1)\n",
    "s.push(2)\n",
    "s.push(3)\n",
    "s.push(2)\n",
    "s.printstack()\n",
    "print(s.max())\n",
    "######## 3\n",
    "s.pop()\n",
    "s.pop()\n",
    "s.pop()\n",
    "s.printstack()\n",
    "print(s.max())"
   ]
  },
  {
   "cell_type": "markdown",
   "metadata": {},
   "source": [
    "# SEPT 18\n",
    "\n",
    "Hi, here's your problem today. This problem was recently asked by LinkedIn:\n",
    "\n",
    "You are given a positive integer N which represents the number of steps in a staircase. You can either climb 1 or 2 steps at a time. Write a function that returns the number of unique ways to climb the stairs.\n",
    "\n",
    "def staircase(n):\n",
    "  #d Fill this in.\n",
    "  \n",
    "print staircase(4)\n",
    "#d 5\n",
    "print staircase(5)\n",
    "#d 8\n",
    "\n",
    "Can you find a solution in O(n) time?"
   ]
  },
  {
   "cell_type": "code",
   "execution_count": 147,
   "metadata": {},
   "outputs": [],
   "source": [
    "ways = 0\n",
    "def staircase(n):\n",
    "    # Base condition\n",
    "    if (n == 1):\n",
    "        return 1\n",
    "    if (n == 2):\n",
    "        return 2\n",
    "    \n",
    "    #take 1 step and find ways for other \n",
    "    ways = staircase(n-1) + staircase(n-2)\n",
    "    return ways"
   ]
  },
  {
   "cell_type": "code",
   "execution_count": 148,
   "metadata": {},
   "outputs": [
    {
     "name": "stdout",
     "output_type": "stream",
     "text": [
      "5\n",
      "8\n"
     ]
    }
   ],
   "source": [
    "print(staircase(4))\n",
    "# 5\n",
    "print(staircase(5))\n",
    "# 8"
   ]
  },
  {
   "cell_type": "markdown",
   "metadata": {},
   "source": [
    "# SEPT 19\n",
    "\n",
    "Hi, here's your problem today. This problem was recently asked by Uber:\n",
    "\n",
    "Given a list of numbers, find if there exists a pythagorean triplet in that list. A pythagorean triplet is 3 variables a, b, c where a2 + b2 = c2\n",
    "\n",
    "Example:\n",
    "Input: [3, 5, 12, 5, 13]\n",
    "Output: True\n",
    "Here, 52 + 122 = 132.\n",
    "\n",
    "def findPythagoreanTriplets(nums):\n",
    "  #f Fill this in.\n",
    "\n",
    "print findPythagoreanTriplets([3, 12, 5, 13])\n",
    "#t True"
   ]
  }
 ],
 "metadata": {
  "kernelspec": {
   "display_name": "Python 3",
   "language": "python",
   "name": "python3"
  },
  "language_info": {
   "codemirror_mode": {
    "name": "ipython",
    "version": 3
   },
   "file_extension": ".py",
   "mimetype": "text/x-python",
   "name": "python",
   "nbconvert_exporter": "python",
   "pygments_lexer": "ipython3",
   "version": "3.8.3"
  }
 },
 "nbformat": 4,
 "nbformat_minor": 4
}
